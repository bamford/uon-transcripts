{
 "cells": [
  {
   "cell_type": "code",
   "execution_count": null,
   "metadata": {},
   "outputs": [],
   "source": [
    "# To be run early on results day.\n",
    "# Will take about an hour to generate transcripts for all students."
   ]
  },
  {
   "cell_type": "code",
   "execution_count": null,
   "metadata": {},
   "outputs": [],
   "source": [
    "import os.path\n",
    "import numpy as np\n",
    "import pandas as pd\n",
    "import requests\n",
    "from bs4 import BeautifulSoup\n",
    "import getpass\n",
    "from weasyprint import HTML, CSS\n",
    "from tqdm import tqdm\n",
    "import yaml"
   ]
  },
  {
   "cell_type": "code",
   "execution_count": null,
   "metadata": {},
   "outputs": [],
   "source": [
    "credentials = '/Users/spb/.uon_credentials.yaml'"
   ]
  },
  {
   "cell_type": "code",
   "execution_count": null,
   "metadata": {},
   "outputs": [],
   "source": [
    "# this is a OneDrive folder for sharing with tutors\n",
    "outpath = '/Users/spb/OneDrive/The University of Nottingham/Physics_Tutors - Documents/Transcripts/'"
   ]
  },
  {
   "cell_type": "code",
   "execution_count": null,
   "metadata": {},
   "outputs": [],
   "source": [
    "loginurl = 'https://bluecastle-uk-results.nottingham.ac.uk/login'\n",
    "studenturl = 'https://bluecastle-uk-results.nottingham.ac.uk/Administration/StudentView/StudentView'"
   ]
  },
  {
   "cell_type": "code",
   "execution_count": null,
   "metadata": {},
   "outputs": [],
   "source": [
    "style = CSS(string='''\n",
    "table  {border-collapse: collapse;}\n",
    "td, th {padding-left: 10px;}\n",
    "''')"
   ]
  },
  {
   "cell_type": "code",
   "execution_count": null,
   "metadata": {},
   "outputs": [],
   "source": [
    "try:\n",
    "    cred = yaml.safe_load(open(credentials))\n",
    "    username = cred['username']\n",
    "    password = cred['password']\n",
    "except:\n",
    "    username = None\n",
    "    password = None\n",
    "\n",
    "if username is None:\n",
    "    username = input('\\tusername: ')\n",
    "else:\n",
    "    print(f'Logging in as {username}')"
   ]
  },
  {
   "cell_type": "code",
   "execution_count": null,
   "metadata": {},
   "outputs": [],
   "source": [
    "if password is None:\n",
    "    password = getpass.getpass('\\tpassword: ')"
   ]
  },
  {
   "cell_type": "code",
   "execution_count": null,
   "metadata": {},
   "outputs": [],
   "source": [
    "def transcript_from_response(response, tutor, year):\n",
    "    soup = BeautifulSoup(response.content, features=\"html5lib\")\n",
    "    marks = soup.find('h2', text='My Marks').parent\n",
    "    info = marks.p.contents\n",
    "    name = info[10].strip() + ' ' + info[6].strip()\n",
    "    marks.find('p', attrs={'class': 'transcript-print-view'}).decompose()\n",
    "    marks.find('div', attrs={'class': 'disclaimer'}).decompose()\n",
    "    marks.find('h2', text='My Marks').decompose()\n",
    "    marks.find_all('p')[1].decompose()\n",
    "    tag = soup.new_tag(\"h1\")\n",
    "    tag.string = name\n",
    "    marks.insert(0, tag)\n",
    "    tag = soup.new_tag(\"h2\")\n",
    "    tag.string = \"Provisional marks transcript - February 2020\"\n",
    "    marks.insert(1, tag)\n",
    "    tag = soup.new_tag(\"h3\")\n",
    "    tag.string = f\"Year {year}\"\n",
    "    marks.insert(2, tag)\n",
    "    filename = f\"{name.replace(' ', '_')}.pdf\"\n",
    "    tutor_year_path = os.path.join(outpath, tutor, f\"year{year}\")\n",
    "    os.makedirs(tutor_year_path, exist_ok=True)\n",
    "    filename = os.path.join(tutor_year_path, filename)\n",
    "    HTML(string=str(marks)).write_pdf(filename, stylesheets=[style])"
   ]
  },
  {
   "cell_type": "code",
   "execution_count": null,
   "metadata": {},
   "outputs": [],
   "source": [
    "# Individual test\n",
    "\n",
    "#loginpayload = {'UserName': username,\n",
    "#                'Password': password}\n",
    "#\n",
    "#with requests.Session() as s:\n",
    "#    s.post(loginurl, data=loginpayload)\n",
    "#    sid = '<PUT STUDENT ID HERE>'\n",
    "#    studentpayload = {'selectedStudent': sid}\n",
    "#    r = s.post(studenturl, data=studentpayload)"
   ]
  },
  {
   "cell_type": "code",
   "execution_count": null,
   "metadata": {},
   "outputs": [],
   "source": [
    "fn = '/Users/spb/OneDrive/The University of Nottingham/Physics_Tutors - Documents/General/Tutor_List_070220.xlsx'\n",
    "df = pd.read_excel(fn)\n",
    "sids = df['Student Id']\n",
    "# switch to old IDs:\n",
    "#sids = np.where((sids > 10000000) & (sids < 20000000), sids - 10000000, sids)\n",
    "# fix strange year = \"2*\" entry\n",
    "df['Year on Course '].update(df['Year on Course '].str.replace('*', ''))\n",
    "df['Student Id'] = sids.astype('str')\n",
    "df = df.set_index('Student Id')\n",
    "df = df.drop_duplicates()\n",
    "df['status'] = 'not tried'"
   ]
  },
  {
   "cell_type": "code",
   "execution_count": null,
   "metadata": {},
   "outputs": [],
   "source": [
    "if df.index.duplicated().any():\n",
    "    print('Warning: there are duplicate Student IDs.')"
   ]
  },
  {
   "cell_type": "code",
   "execution_count": null,
   "metadata": {},
   "outputs": [],
   "source": [
    "# For testing full system on small sample:\n",
    "# df = df.sample(10)"
   ]
  },
  {
   "cell_type": "code",
   "execution_count": null,
   "metadata": {},
   "outputs": [],
   "source": [
    "loginpayload = {'UserName': username,\n",
    "                'Password': password}\n",
    "\n",
    "with requests.Session() as s:\n",
    "    s.post(loginurl, data=loginpayload)\n",
    "    iterator = tqdm(df.index)\n",
    "    for sid in iterator:\n",
    "        if df.loc[sid, 'status'] == 'not tried':\n",
    "            tutor = df.loc[sid, 'Tutor']\n",
    "            year = df.loc[sid, 'Year on Course ']\n",
    "            if int(year) > 1:\n",
    "                continue\n",
    "            studentpayload = {'selectedStudent': sid}\n",
    "            r = s.post(studenturl, data=studentpayload)\n",
    "            student = f\"{sid} {df.loc[sid, 'First Name(s)']} {df.loc[sid, 'Surname']}\"\n",
    "            try:\n",
    "                transcript_from_response(r, tutor, year)\n",
    "                iterator.set_description(f'{student}: transcript created')\n",
    "                df.loc[sid, 'status'] = 'created'\n",
    "            except:\n",
    "                iterator.set_description(f'{student}: not found on BlueCastle')\n",
    "                df.loc[sid, 'status'] = 'not found'"
   ]
  }
 ],
 "metadata": {
  "hide_input": false,
  "kernelspec": {
   "display_name": "Python [conda env:first-year]",
   "language": "python",
   "name": "conda-env-first-year-py"
  },
  "language_info": {
   "codemirror_mode": {
    "name": "ipython",
    "version": 3
   },
   "file_extension": ".py",
   "mimetype": "text/x-python",
   "name": "python",
   "nbconvert_exporter": "python",
   "pygments_lexer": "ipython3",
   "version": "3.7.6"
  }
 },
 "nbformat": 4,
 "nbformat_minor": 2
}
