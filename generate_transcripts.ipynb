{
 "cells": [
  {
   "cell_type": "code",
   "execution_count": null,
   "metadata": {},
   "outputs": [],
   "source": [
    "# To be run early on results day.\n",
    "# Will take upto an hour to generate transcripts for all students."
   ]
  },
  {
   "cell_type": "code",
   "execution_count": null,
   "metadata": {},
   "outputs": [],
   "source": [
    "import os.path\n",
    "import numpy as np\n",
    "import pandas as pd\n",
    "import requests\n",
    "from bs4 import BeautifulSoup\n",
    "from weasyprint import HTML, CSS\n",
    "import yaml\n",
    "import datetime\n",
    "from concurrent.futures import ThreadPoolExecutor\n",
    "import logging\n",
    "import sys"
   ]
  },
  {
   "cell_type": "code",
   "execution_count": null,
   "metadata": {},
   "outputs": [],
   "source": [
    "logging.basicConfig(stream=sys.stdout, level=logging.INFO)\n",
    "logger = logging.getLogger('transcripts')"
   ]
  },
  {
   "cell_type": "code",
   "execution_count": null,
   "metadata": {},
   "outputs": [],
   "source": [
    "credentials = '/Users/spb/.uon_credentials.yaml'"
   ]
  },
  {
   "cell_type": "code",
   "execution_count": null,
   "metadata": {},
   "outputs": [],
   "source": [
    "# this is a OneDrive folder for sharing with tutors\n",
    "outpath = '/Users/spb/The University of Nottingham/Physics_Tutors - Documents/Transcripts/'\n",
    "#outpath = '/Users/spb/tmp/local_transcripts/'"
   ]
  },
  {
   "cell_type": "code",
   "execution_count": null,
   "metadata": {},
   "outputs": [],
   "source": [
    "loginurl = 'https://bluecastle-uk-results.nottingham.ac.uk/login'\n",
    "studenturl = 'https://bluecastle-uk-results.nottingham.ac.uk/Administration/StudentView/StudentView'"
   ]
  },
  {
   "cell_type": "code",
   "execution_count": null,
   "metadata": {},
   "outputs": [],
   "source": [
    "style = CSS(string='''\n",
    "table  {border-collapse: collapse;\n",
    "        page-break-inside: avoid;\n",
    "        page-break-before: avoid;}\n",
    "td, th {padding-left: 10px;}\n",
    "h1, h3 {margin-top: 4px;\n",
    "        margin-bottom: 8px;}\n",
    "h2 {margin-top: 8px;\n",
    "    margin-bottom: 8px;\n",
    "    page-break-after: avoid;}            \n",
    "p {margin-top: 12px;\n",
    "   margin-bottom: 4px;}\n",
    "@page {margin: 1.5cm 1.5cm 1.5cm 1.5cm;}\n",
    ".covidIncomplete {color: grey;}\n",
    "''')"
   ]
  },
  {
   "cell_type": "code",
   "execution_count": null,
   "metadata": {},
   "outputs": [],
   "source": [
    "try:\n",
    "    fn = '/Users/spb/OneDrive - The University of Nottingham/CovidExams/COVID_incomplete modules.xlsx'\n",
    "    df = pd.read_excel(fn)\n",
    "    covid_modules = df['Subject'].str.strip() + ' ' + df['Catalog Number'].str.strip()\n",
    "    covid_modules = list(covid_modules)\n",
    "except:\n",
    "    print('List of Covid modules not found')\n",
    "    covid_modules = None"
   ]
  },
  {
   "cell_type": "code",
   "execution_count": null,
   "metadata": {},
   "outputs": [],
   "source": [
    "cred = yaml.safe_load(open(credentials))\n",
    "username = cred['username']\n",
    "password = cred['password']"
   ]
  },
  {
   "cell_type": "code",
   "execution_count": null,
   "metadata": {},
   "outputs": [],
   "source": [
    "def transcript_from_response(response, tutor, year, stop_on_status=None):\n",
    "    soup = BeautifulSoup(response.content, features=\"html5lib\")\n",
    "    marks = soup.find('h2', text='My Marks').parent\n",
    "    info = marks.p.contents\n",
    "    name = info[10].strip() + ' ' + info[6].strip()\n",
    "    marks.find('p', attrs={'class': 'transcript-print-view'}).decompose()\n",
    "    marks.find('div', attrs={'class': 'disclaimer'}).decompose()\n",
    "    marks.find('h2', text='My Marks').decompose()\n",
    "    if stop_on_status is not None:\n",
    "        status = marks.find_all('p')[1]\n",
    "        if stop_on_status in status.text:\n",
    "            return False\n",
    "        status.decompose()\n",
    "    tag = soup.new_tag(\"h1\")\n",
    "    tag.string = name\n",
    "    marks.insert(0, tag)\n",
    "    tag = soup.new_tag(\"h2\")\n",
    "    date = datetime.date.today().strftime(\"%-d %B %Y\")\n",
    "    tag.string = f\"Provisional marks transcript – {date}\"\n",
    "    marks.insert(1, tag)\n",
    "    tag = soup.new_tag(\"h3\")\n",
    "    tag.string = f\"Year {year}\"\n",
    "    marks.insert(2, tag)\n",
    "    try:\n",
    "        table = marks.find('table', attrs={'class': 'gridTable transcript'})\n",
    "        tds = table.find_all('td', attrs={'class': 'grid-moduleCode'})\n",
    "        if covid_modules is not None:\n",
    "            for td in tds:\n",
    "                if td.string.strip() in covid_modules:\n",
    "                    td.parent.attrs['class'].append('covidIncomplete')\n",
    "                    grade = td.parent.find_all('td')[4]\n",
    "                    grade.string.replace_with(' – ')\n",
    "    except:\n",
    "        pass\n",
    "    try:\n",
    "        award = soup.find('h2', text='My Award').parent\n",
    "        qual = award.find('strong', text='Qualification Obtained:')\n",
    "        if qual is None:\n",
    "            raise Exception\n",
    "        award.find('h2', text='My Award').decompose()\n",
    "        for tag in award.find_all('p'):\n",
    "            tag.decompose()\n",
    "        for tag in award.find_all('div'):\n",
    "            tag.decompose()\n",
    "        tag = soup.new_tag(\"h2\")\n",
    "        tag.string = f\"Provisional award\"\n",
    "        award.insert(0, tag)\n",
    "        output = str(marks) + str(award)\n",
    "    except:\n",
    "        output = str(marks)\n",
    "    filename = f\"{name.replace(' ', '_')}.pdf\"\n",
    "    if year not in 'MSc':\n",
    "        year = f\"year{year}\"\n",
    "    tutor_year_path = os.path.join(outpath, tutor, year)\n",
    "    os.makedirs(tutor_year_path, exist_ok=True)\n",
    "    filename = os.path.join(tutor_year_path, filename)\n",
    "    HTML(string=output).write_pdf(filename, stylesheets=[style])"
   ]
  },
  {
   "cell_type": "code",
   "execution_count": null,
   "metadata": {},
   "outputs": [],
   "source": [
    "# Individual test\n",
    "\n",
    "#loginpayload = {'UserName': username,\n",
    "#                'Password': password}\n",
    "#\n",
    "#with requests.Session() as s:\n",
    "#    s.post(loginurl, data=loginpayload)\n",
    "#    sid = 'STUDENT_ID'\n",
    "#    studentpayload = {'selectedStudent': sid}\n",
    "#    r = s.post(studenturl, data=studentpayload)\n",
    "#\n",
    "#transcript_from_response(r, 'test', '0')"
   ]
  },
  {
   "cell_type": "code",
   "execution_count": null,
   "metadata": {},
   "outputs": [],
   "source": [
    "def get_students_old():\n",
    "    fn = '/Users/spb/The University of Nottingham/Physics_Tutors - Documents/General/Tutor_List_070220.xlsx'\n",
    "    df = pd.read_excel(fn)\n",
    "    df.columns = df.columns.str.strip()\n",
    "    sids = df['Student Id']\n",
    "    # switch to old IDs:\n",
    "    #sids = np.where((sids > 10000000) & (sids < 20000000), sids - 10000000, sids)\n",
    "    df['Student Id'] = sids.astype('str')\n",
    "    # fix strange year = \"2*\" entry\n",
    "    df['Year on Course'].update(df['Year on Course'].str.replace('*', ''))\n",
    "    df['Year on Course'] = df['Year on Course'].astype('int')\n",
    "    df = df.set_index('Student Id')\n",
    "    df = df.drop_duplicates()\n",
    "    df = df.sort_values('Year on Course', ascending=False)\n",
    "    return df"
   ]
  },
  {
   "cell_type": "code",
   "execution_count": null,
   "metadata": {},
   "outputs": [],
   "source": [
    "def get_students():\n",
    "    fn = '/Users/spb/The University of Nottingham/Physics_Tutors - Documents/General/tutee_remote_contact.xlsx'\n",
    "    df = pd.read_excel(fn, skiprows=6)\n",
    "    df.columns = df.columns.str.strip()\n",
    "    sids = df['Student ID']\n",
    "    # switch to old IDs:\n",
    "    #sids = np.where((sids > 10000000) & (sids < 20000000), sids - 10000000, sids)\n",
    "    df['Student ID'] = sids.astype('str')\n",
    "    # fix strange year = \"2*\" entry\n",
    "    df['Year on Course'] = df['Year'].astype('str').str.replace('*', '')\n",
    "    df = df.set_index('Student ID')\n",
    "    df = df.drop_duplicates()\n",
    "    df = df.sort_values('Year on Course', ascending=False)\n",
    "    return df"
   ]
  },
  {
   "cell_type": "code",
   "execution_count": null,
   "metadata": {},
   "outputs": [],
   "source": [
    "df = get_students()"
   ]
  },
  {
   "cell_type": "code",
   "execution_count": null,
   "metadata": {},
   "outputs": [],
   "source": [
    "if df.index.duplicated().any():\n",
    "    print('Warning: there are duplicate Student IDs.')"
   ]
  },
  {
   "cell_type": "code",
   "execution_count": null,
   "metadata": {},
   "outputs": [],
   "source": [
    "dfall = df.copy()"
   ]
  },
  {
   "cell_type": "code",
   "execution_count": null,
   "metadata": {},
   "outputs": [],
   "source": [
    "# For testing full system on small sample:\n",
    "df = dfall.copy()\n",
    "#df = df[df['Year on Course'] == '1']\n",
    "#df = df.sample(40)"
   ]
  },
  {
   "cell_type": "code",
   "execution_count": null,
   "metadata": {},
   "outputs": [],
   "source": [
    "loginpayload = {'UserName': username,\n",
    "                'Password': password}"
   ]
  },
  {
   "cell_type": "code",
   "execution_count": null,
   "metadata": {},
   "outputs": [],
   "source": [
    "def create_transcript(sid, response, session):\n",
    "    tutor = df.loc[sid, 'Tutor']\n",
    "    year = df.loc[sid, 'Year on Course']\n",
    "    student = f\"{sid} {df.loc[sid, 'First name(s)']} {df.loc[sid, 'Surname']}\"    \n",
    "    try:\n",
    "        response.raise_for_status()\n",
    "        transcript_from_response(response, tutor, year, None)\n",
    "        #logger.info(f\"Created transcript for {student}\")\n",
    "        success = True\n",
    "    except:\n",
    "        logger.info(f\"Failed for {student}\")\n",
    "        success = False\n",
    "    return (sid, student, success)"
   ]
  },
  {
   "cell_type": "code",
   "execution_count": null,
   "metadata": {},
   "outputs": [],
   "source": [
    "def fetch_and_create_transcripts(student_ids):\n",
    "    results = []\n",
    "    with requests.Session() as s:\n",
    "        try:\n",
    "            response = s.post(loginurl, data=loginpayload, timeout=31)\n",
    "        except requests.Timeout:\n",
    "            logger.error('Failed to log in - timed out')\n",
    "        else:\n",
    "            if response.ok:\n",
    "                for sid in student_ids:\n",
    "                    studentpayload = {'selectedStudent': sid}\n",
    "                    try:\n",
    "                        response = s.post(studenturl, data=studentpayload, timeout=(3.1, 31))\n",
    "                        response.raise_for_status()\n",
    "                    except requests.Timeout:\n",
    "                        logger.warning(f'{sid}: Request timed out')\n",
    "                    except requests.HTTPError:\n",
    "                        logger.warning(f'{sid}: Unsuccessful request')\n",
    "                    else:\n",
    "                        results.append(create_transcript(sid, response, session=s))\n",
    "            else:\n",
    "                logger.error('Failed to log in - error response')\n",
    "    return results"
   ]
  },
  {
   "cell_type": "code",
   "execution_count": null,
   "metadata": {},
   "outputs": [],
   "source": [
    "n = 4\n",
    "count = 0\n",
    "subidx = np.array_split(df.index, n)\n",
    "with ThreadPoolExecutor(n) as executor:\n",
    "    results = executor.map(fetch_and_create_transcripts, subidx)\n",
    "    for res in results:\n",
    "        for sid, student, success in res:\n",
    "            if success:\n",
    "                count += 1\n",
    "            if not success:\n",
    "                status = \"not found on BlueCastle\"\n",
    "                logger.info(f\"{student}: {status}\")\n",
    "logger.info(f\"Successfully created {count} transcripts\")"
   ]
  }
 ],
 "metadata": {
  "hide_input": false,
  "kernelspec": {
   "display_name": "Python [conda env:first-year]",
   "language": "python",
   "name": "conda-env-first-year-py"
  },
  "language_info": {
   "codemirror_mode": {
    "name": "ipython",
    "version": 3
   },
   "file_extension": ".py",
   "mimetype": "text/x-python",
   "name": "python",
   "nbconvert_exporter": "python",
   "pygments_lexer": "ipython3",
   "version": "3.7.6"
  }
 },
 "nbformat": 4,
 "nbformat_minor": 2
}
